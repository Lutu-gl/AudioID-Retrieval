{
 "cells": [
  {
   "metadata": {},
   "cell_type": "markdown",
   "source": "",
   "id": "41353735700800a1"
  },
  {
   "metadata": {},
   "cell_type": "markdown",
   "source": [
    "# Audio Retrieval MS2\n",
    "This project focuses on audio retrieval using constellation maps, inspired by prior work on audio fingerprinting and matching (Please see the `README.md` in the Acknowledgements/Credits section for more information). Milestone 2 focuses on the following tasks: \n",
    "- Hash generation and storage\n",
    "- Audio identification\n",
    "- Scale-Up\n",
    "\n",
    "We chose the best performing configurations as evaluated in Milestone 1.  "
   ],
   "id": "6b5419c648bfdfbf"
  },
  {
   "metadata": {
    "ExecuteTime": {
     "end_time": "2025-01-13T23:26:34.471373Z",
     "start_time": "2025-01-13T23:26:34.466249Z"
    }
   },
   "cell_type": "code",
   "source": "configuration = (8, 2) # (κ=8, τ=2)",
   "id": "411c5ddc110f1500",
   "outputs": [],
   "execution_count": 1
  },
  {
   "metadata": {},
   "cell_type": "code",
   "outputs": [],
   "source": "",
   "id": "f2ec60c6c362d68",
   "execution_count": null
  }
 ],
 "metadata": {
  "kernelspec": {
   "display_name": "Python 3 (ipykernel)",
   "language": "python",
   "name": "python3"
  },
  "language_info": {
   "codemirror_mode": {
    "name": "ipython",
    "version": 3
   },
   "file_extension": ".py",
   "mimetype": "text/x-python",
   "name": "python",
   "nbconvert_exporter": "python",
   "pygments_lexer": "ipython3",
   "version": "3.9.6"
  }
 },
 "nbformat": 4,
 "nbformat_minor": 5
}
